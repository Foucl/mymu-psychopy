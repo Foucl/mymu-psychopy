{
 "cells": [
  {
   "cell_type": "code",
   "execution_count": 1,
   "metadata": {
    "ExecuteTime": {
     "end_time": "2016-09-16T13:34:26.086000",
     "start_time": "2016-09-16T13:34:24.908000"
    },
    "collapsed": false,
    "init_cell": true
   },
   "outputs": [],
   "source": [
    "import numpy.random as rnd\n",
    "import pandas as pd\n",
    "from psychopy import visual, data\n",
    "from psychopy_ext import exp\n",
    "from collections import OrderedDict\n",
    "import scripts.computer as computer\n",
    "import os\n",
    "import glob"
   ]
  },
  {
   "cell_type": "code",
   "execution_count": 5,
   "metadata": {
    "ExecuteTime": {
     "end_time": "2016-08-24T13:59:47.740000",
     "start_time": "2016-08-24T13:59:47.719000"
    },
    "collapsed": false
   },
   "outputs": [],
   "source": [
    "#os.path.splitext(male_full)\n",
    "#for file in os.listdir(\"stim/male\"):\n",
    "    #if file.endswith(\".JPG\"):\n",
    "       # print(file)\n",
    "        \n",
    "\n",
    "ids = {}\n",
    "male_frontal = [x for x in os.listdir(\"stim/male\") if x.endswith(\".JPG\")]\n",
    "female_frontal = [x for x in os.listdir(\"stim/female\") if x.endswith(\".JPG\")]\n",
    "ids['male'] = list(set([x.split('_')[1] for x in male_frontal]))\n",
    "ids['female'] = list(set([x.split('_')[1] for x in female_frontal]))\n",
    "expressions = ['angry', 'happy', 'neutral']\n",
    "\n",
    "# remove '(x)' in filenames\n",
    "rdir = 'stim/female'\n",
    "def rename(rdir):\n",
    "    for f in os.listdir(rdir):\n",
    "        if f.endswith('.JPG') & f.startswith('('):\n",
    "            os.rename(os.path.join(rdir, f), os.path.join(rdir, f[4:]))\n",
    "\n",
    "    \n",
    "def make_trials_ids():\n",
    "    for c in conditions:\n",
    "        if c['validity'] == 'valid':\n",
    "            c['idx_m'] = ids['male'][:]\n",
    "            rnd.shuffle(ids['male'])\n",
    "            c['idx_m'] += ids['male'][0:10]\n",
    "            c['idx_f'] = ids['female'][:]\n",
    "            rnd.shuffle(ids['female'])\n",
    "            c['idx_f'] += ids['female'][0:11]\n",
    "        else:\n",
    "            rnd.shuffle(ids['male'])\n",
    "            rnd.shuffle(ids['female'])\n",
    "            c['idx_m'] = ids['male'][0:10]\n",
    "            c['idx_f'] = ids['female'][0:10]"
   ]
  },
  {
   "cell_type": "code",
   "execution_count": 6,
   "metadata": {
    "ExecuteTime": {
     "end_time": "2016-08-24T13:59:49.227000",
     "start_time": "2016-08-24T13:59:49.223000"
    },
    "collapsed": false
   },
   "outputs": [
    {
     "name": "stdout",
     "output_type": "stream",
     "text": [
      "20\n",
      "20\n"
     ]
    }
   ],
   "source": [
    "print len(ids['male'])\n",
    "rnd.shuffle(ids['male'])\n",
    "print len(ids['male'])"
   ]
  },
  {
   "cell_type": "code",
   "execution_count": 171,
   "metadata": {
    "ExecuteTime": {
     "end_time": "2016-08-20T19:40:37.991000",
     "start_time": "2016-08-20T19:40:37.918000"
    },
    "collapsed": false
   },
   "outputs": [
    {
     "ename": "SyntaxError",
     "evalue": "invalid syntax (<ipython-input-171-ab065514ba1b>, line 84)",
     "output_type": "error",
     "traceback": [
      "\u001b[0;36m  File \u001b[0;32m\"<ipython-input-171-ab065514ba1b>\"\u001b[0;36m, line \u001b[0;32m84\u001b[0m\n\u001b[0;31m    exp.Event(self,\u001b[0m\n\u001b[0m      ^\u001b[0m\n\u001b[0;31mSyntaxError\u001b[0m\u001b[0;31m:\u001b[0m invalid syntax\n"
     ]
    }
   ],
   "source": [
    "\"\"\"\n",
    "Response Priming Experiment with Emotional Facial Expressions as Stimuli and Response.\n",
    "\n",
    "This demo is part of psychopy_ext library.\n",
    "\"\"\"\n",
    "\n",
    "try:\n",
    "    import pandas\n",
    "except:\n",
    "    pass\n",
    "\n",
    "from psychopy import visual\n",
    "from psychopy_ext import exp\n",
    "\n",
    "# some modules are only available in Python 2.6\n",
    "try:\n",
    "    from collections import OrderedDict\n",
    "except:\n",
    "    from exp import OrderedDict\n",
    "\n",
    "\n",
    "PATHS = exp.set_paths('mymu', computer)\n",
    "\n",
    "class MyMu(exp.Experiment):\n",
    "    \"\"\"\n",
    "    Willkommen zu unserem Experiment\n",
    "    ================================\n",
    "\n",
    "    Drücken Sie eine **beliebige Taste**, um zu starten.\n",
    "    \"\"\"\n",
    "    def __init__(self,\n",
    "                 name='mymu',\n",
    "                 info=OrderedDict([('subjid', 'mm_'),\n",
    "                                  ('session', 1),\n",
    "                                  ]),\n",
    "                 rp=None,\n",
    "                 actions='run'\n",
    "                 ):\n",
    "        super(MyMu, self).__init__(name=name, info=info,\n",
    "                rp=rp, actions=actions,\n",
    "                paths=PATHS, computer=computer)\n",
    "\n",
    "        # user-defined parameters\n",
    "        self.nvalid = 60\n",
    "        self.ninvalid = 20\n",
    "        self.stimsize = (9, 6)  # in deg\n",
    "        self.isi = 1.2\n",
    "        \n",
    "        ids = {}\n",
    "        male_frontal = [x for x in os.listdir(\"stim/male\") if x.endswith(\".JPG\")]\n",
    "        female_frontal = [x for x in os.listdir(\"stim/female\") if x.endswith(\".JPG\")]\n",
    "        self.ids['male'] = list(set([x.split('_')[1] for x in male_frontal]))\n",
    "        self.ids['female'] = list(set([x.split('_')[1] for x in female_frontal]))\n",
    "        self.factors = {'expression': ['angry', 'happy'], 'validity': ['valid', 'invalid']}\n",
    "        self.conditions=[\n",
    "            {'texpr':'anger', 'validity': 'valid', 'pexpr': 'anger', 'weight': self.nvalid},\n",
    "            {'texpr':'anger', 'validity': 'invalid', 'pexpr': 'happy', 'weight': self.ninvalid},\n",
    "            {'texpr':'happy', 'validity': 'valid', 'pexpr': 'happy', 'weight': self.nvalid},\n",
    "            {'texpr':'happy', 'validity': 'invalid', 'pexpr': 'anger', 'weight': self.ninvalid}\n",
    "            ]\n",
    "                \n",
    "\n",
    "    def create_stimuli(self):\n",
    "        \"\"\"Define your stimuli here, store them in self.s\n",
    "        \"\"\"\n",
    "        self.create_fixation()\n",
    "        self.s = {}\n",
    "        self.s['fix']= self.fixation\n",
    "        self.s['prime'] = visual.ImageStim(self.win, size=self.stimsize)\n",
    "        self.s['target'] = visual.ImageStim(self.win, size=self.stimsize)\n",
    "        self.s['isi'] = visual.ImageStim(self.win, size=(0,0))\n",
    "\n",
    "    def create_trial(self):\n",
    "        \"\"\"Define trial composition\n",
    "        \"\"\"\n",
    "        self.trial = [exp.Event(self,\n",
    "                                dur=.500,  # in seconds\n",
    "                                display=self.s['fix'],\n",
    "                                func=self.idle_event),\n",
    "                      exp.Event(self,\n",
    "                                dur=.300,\n",
    "                                display=self.s['prime'],\n",
    "                                func=self.idle_event)\n",
    "                      exp.Event(self,\n",
    "                                dur=self.isi,\n",
    "                                display=self.s['isi'],\n",
    "                                func=self.idle_event)\n",
    "                      exp.Event(self,\n",
    "                                dur=2,\n",
    "                                display=self.s['target'],\n",
    "                                func=self.idle_event)\n",
    "                     ]\n",
    "\n",
    "    def create_exp_plan(self):\n",
    "        \"\"\"Put together trials\n",
    "        DURATION??\n",
    "        check image files here; randomize here\n",
    "        \"\"\"\n",
    "        # check image stimuli\n",
    "        if len(ids['female']) != 19 or len(ids['male']) != 20:\n",
    "                raise Exception('We need 19 unique female and 20 unique male ids')\n",
    "                \n",
    "        # create trial list (id, expression, validity)\n",
    "        # 60 IDs showing Anger in validAnger condition\n",
    "            # each gender: draw all + draw 10\n",
    "        # 20 IDs showing Anger in invalidHappy condition\n",
    "            # # each gender: draw 10\n",
    "        # 60 IDs showing Happy in validHappy condition\n",
    "            # each gender: draw all + draw 10\n",
    "        # 20 IDs showing Happy in invalidAnger condition\n",
    "            # # each gender: draw 10\n",
    "            \n",
    "        # Wie genau den Trialhandler nutzen??? (wenn dann data.TrialHandlerExt)\n",
    "        # wohl besser: loop über valide und invalide conditions getrennt\n",
    "        #\n",
    "        # jeden faktor durchgehen, jeweils 160 item-lange list erzeugen, auf reihenfolge achten!\n",
    "        # an_val (60), an_inval(20), ha_val(60), ha_inval(20):\n",
    "        #\n",
    "        # texpr_an (80), texpr_ha(80)\n",
    "        # val (60), inval(20), val(60), inval(20)\n",
    "        # pexpr_an (60), pexpr_ha(20), pexpr_ha(60), p_expr_an(20)\n",
    "        # 30 idx_m, 30 idx_f, 10 idx_m, 10 idx_f, 30 idx_x, 30 idx_f, 10 idx_m, 10 idx_f\n",
    "        # 30 male, 30 female, 10 male, 10 female, 30 male, 30 female, 10 male, 10 female\n",
    "        # \n",
    "            \n",
    "        conditions = data.createFactorialTrialList(self.factors)\n",
    "        \n",
    "        exp_plan = []\n",
    "        for trialno in range(self.ntrials):\n",
    "            exp_plan.append(OrderedDict([\n",
    "                        ('trialno', trialno),\n",
    "                        ('texpr', expr),\n",
    "                        ('validity', val),\n",
    "                        ('pexpr', pexpr),\n",
    "                        ('sex', sex),\n",
    "                        ('id', idx),\n",
    "                        ('onset', ''),  # empty ones will be filled up\n",
    "                        ('dur', ''),    # during runtime\n",
    "                        ('corr_resp', 1),\n",
    "                        ('subj_resp', ''),\n",
    "                        ('accuracy', ''),\n",
    "                        ('rt', ''),\n",
    "                        ]))\n",
    "        self.exp_plan = exp_plan\n",
    "        \n",
    "        \n",
    "    def before_trial(self):\n",
    "        \"\"\"Set up stimuli prior to a trial\n",
    "        \"\"\"\n",
    "        im_fname = os.path.join(self.paths['images'], self.this_trial['im'])\n",
    "        self.s['bitmap1'].setImage(im_fname + self.asfx)\n",
    "        self.s['bitmap1'].setOri(self.this_trial['ori'])\n",
    "        self.s['bitmap2'].setImage(im_fname + self.bsfx)\n",
    "        self.s['bitmap2'].setOri(self.this_trial['ori'])\n",
    "        self.bitmap = self.s['bitmap1']\n",
    "\n",
    "        if self.thisTrialN > 0:  # no need for instructions for the first trial\n",
    "            self.show_text(text=self.trial_instr, wait=0)\n",
    "\n",
    "        "
   ]
  },
  {
   "cell_type": "code",
   "execution_count": 8,
   "metadata": {
    "ExecuteTime": {
     "end_time": "2016-08-20T16:20:29.138000",
     "start_time": "2016-08-20T16:20:18.900000"
    },
    "collapsed": false
   },
   "outputs": [
    {
     "name": "stdout",
     "output_type": "stream",
     "text": [
      "\r",
      "trial 1"
     ]
    },
    {
     "name": "stderr",
     "output_type": "stream",
     "text": [
      "c:\\users\\ddmitarbeiter\\anaconda2\\lib\\site-packages\\numpy\\ma\\core.py:3248: VisibleDeprecationWarning: using a non-integer number instead of an integer will result in an error in the future\n",
      "  _data[indx] = dval\n",
      "c:\\users\\ddmitarbeiter\\anaconda2\\lib\\site-packages\\numpy\\ma\\core.py:3249: VisibleDeprecationWarning: using a non-integer number instead of an integer will result in an error in the future\n",
      "  _mask[indx] = mval\n"
     ]
    },
    {
     "name": "stdout",
     "output_type": "stream",
     "text": []
    },
    {
     "ename": "SystemExit",
     "evalue": "0",
     "output_type": "error",
     "traceback": [
      "An exception has occurred, use %tb to see the full traceback.\n",
      "\u001b[0;31mSystemExit\u001b[0m\u001b[0;31m:\u001b[0m 0\n"
     ]
    },
    {
     "name": "stderr",
     "output_type": "stream",
     "text": [
      "c:\\users\\ddmitarbeiter\\anaconda2\\lib\\site-packages\\IPython\\core\\interactiveshell.py:2889: UserWarning: To exit: use 'exit', 'quit', or Ctrl-D.\n",
      "  warn(\"To exit: use 'exit', 'quit', or Ctrl-D.\", stacklevel=1)\n"
     ]
    }
   ],
   "source": [
    "MyMu(rp={'no_output':True, 'debug':True}).run()"
   ]
  },
  {
   "cell_type": "code",
   "execution_count": 51,
   "metadata": {
    "ExecuteTime": {
     "end_time": "2016-08-20T17:33:17.098000",
     "start_time": "2016-08-20T17:33:13.447000"
    },
    "collapsed": false
   },
   "outputs": [],
   "source": [
    "from psychopy import visual, core\n",
    "\n",
    "win = visual.Window(size=(600,400))\n",
    "bitmap = visual.ImageStim(win, size=(0,0))\n",
    "bitmap.draw()  # draw bitmap on the window\n",
    "win.flip()  # make bitmap visible\n",
    "core.wait(3)  # seconds\n",
    "win.close()"
   ]
  },
  {
   "cell_type": "code",
   "execution_count": null,
   "metadata": {
    "collapsed": true
   },
   "outputs": [],
   "source": []
  }
 ],
 "metadata": {
  "anaconda-cloud": {},
  "kernelspec": {
   "display_name": "Python 2",
   "language": "python",
   "name": "python2"
  },
  "language_info": {
   "codemirror_mode": {
    "name": "ipython",
    "version": 2
   },
   "file_extension": ".py",
   "mimetype": "text/x-python",
   "name": "python",
   "nbconvert_exporter": "python",
   "pygments_lexer": "ipython2",
   "version": "2.7.12"
  },
  "nav_menu": {},
  "toc": {
   "navigate_menu": true,
   "number_sections": true,
   "sideBar": true,
   "threshold": 6,
   "toc_cell": false,
   "toc_section_display": "block",
   "toc_window_display": false
  }
 },
 "nbformat": 4,
 "nbformat_minor": 1
}
